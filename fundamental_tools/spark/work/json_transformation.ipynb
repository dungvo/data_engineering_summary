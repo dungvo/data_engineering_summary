{
 "cells": [
  {
   "cell_type": "code",
   "execution_count": 5,
   "id": "4f85026a",
   "metadata": {},
   "outputs": [],
   "source": [
    "import pyspark\n",
    "from pyspark import SparkContext\n",
    "\n",
    "sc = SparkContext()\n",
    "spark = pyspark.sql.SparkSession(sc, jsparkSession=None)"
   ]
  },
  {
   "cell_type": "code",
   "execution_count": 12,
   "id": "0c9cc17b",
   "metadata": {},
   "outputs": [
    {
     "data": {
      "text/plain": [
       "'/home/jovyan/data'"
      ]
     },
     "execution_count": 12,
     "metadata": {},
     "output_type": "execute_result"
    }
   ],
   "source": [
    "import os\n",
    "\n",
    "HOME = \"/home/jovyan\"\n",
    "\n",
    "\n",
    "DATA_PATH = os.path.join(HOME, \"data\")\n",
    "DATA_PATH"
   ]
  },
  {
   "cell_type": "code",
   "execution_count": 26,
   "id": "74f9c7b9",
   "metadata": {},
   "outputs": [],
   "source": [
    "# Read JSON RDD\n",
    "logDF = spark.read.json(os.path.join(DATA_PATH,\"log.json\"))"
   ]
  },
  {
   "cell_type": "code",
   "execution_count": 27,
   "id": "2434bcd1",
   "metadata": {},
   "outputs": [
    {
     "name": "stdout",
     "output_type": "stream",
     "text": [
      "root\n",
      " |-- cart_data: struct (nullable = true)\n",
      " |    |-- created_time: string (nullable = true)\n",
      " |    |-- departure_district_tikicode: string (nullable = true)\n",
      " |    |-- departure_region_tikicode: string (nullable = true)\n",
      " |    |-- departure_ward_tikicode: string (nullable = true)\n",
      " |    |-- destination_address_type: string (nullable = true)\n",
      " |    |-- destination_district_tikicode: string (nullable = true)\n",
      " |    |-- destination_region_tikicode: string (nullable = true)\n",
      " |    |-- destination_ward_tikicode: string (nullable = true)\n",
      " |    |-- estimated_transit_time: long (nullable = true)\n",
      " |    |-- fulfillment_type: string (nullable = true)\n",
      " |    |-- items: array (nullable = true)\n",
      " |    |    |-- element: struct (containsNull = true)\n",
      " |    |    |    |-- inventory_type: string (nullable = true)\n",
      " |    |    |    |-- is_stock_available: boolean (nullable = true)\n",
      " |    |    |    |-- po_type: string (nullable = true)\n",
      " |    |    |    |-- product_type: string (nullable = true)\n",
      " |    |    |    |-- seller_id: long (nullable = true)\n",
      " |    |    |    |-- sku: string (nullable = true)\n",
      " |    |-- ors_pdd: string (nullable = true)\n",
      " |    |-- planned_delivery_partner_id: long (nullable = true)\n",
      " |    |-- planned_pickup_partner_id: long (nullable = true)\n",
      " |    |-- request_id: string (nullable = true)\n",
      " |    |-- request_type: string (nullable = true)\n",
      " |    |-- route: string (nullable = true)\n",
      " |    |-- shipping_plan_id: long (nullable = true)\n",
      " |    |-- warehouse_code: string (nullable = true)\n",
      " |-- created_time: string (nullable = true)\n",
      " |-- factors: struct (nullable = true)\n",
      " |    |-- biased_previous_c2d: string (nullable = true)\n",
      " |    |-- biased_previous_c2d_avg: string (nullable = true)\n",
      " |    |-- biased_previous_c2d_observation: string (nullable = true)\n",
      " |    |-- biased_previous_c2d_tp80: string (nullable = true)\n",
      " |    |-- biased_previous_c2d_tp90: string (nullable = true)\n",
      " |    |-- biased_previous_c2d_tp95: string (nullable = true)\n",
      " |    |-- bigquery_dow: long (nullable = true)\n",
      " |    |-- created_time: string (nullable = true)\n",
      " |    |-- datetime_creation_time: string (nullable = true)\n",
      " |    |-- day_created_time: long (nullable = true)\n",
      " |    |-- delivery_3pl_partner_transportation_leadtime: string (nullable = true)\n",
      " |    |-- departure_district_tikicode: string (nullable = true)\n",
      " |    |-- departure_district_tikicode_id: string (nullable = true)\n",
      " |    |-- departure_region_tikicode: string (nullable = true)\n",
      " |    |-- departure_region_tikicode_id: string (nullable = true)\n",
      " |    |-- departure_ward_tikicode: string (nullable = true)\n",
      " |    |-- departure_ward_tikicode_id: string (nullable = true)\n",
      " |    |-- destination_address_type: string (nullable = true)\n",
      " |    |-- destination_district_tikicode: string (nullable = true)\n",
      " |    |-- destination_district_tikicode_id: string (nullable = true)\n",
      " |    |-- destination_region_tikicode: string (nullable = true)\n",
      " |    |-- destination_region_tikicode_id: string (nullable = true)\n",
      " |    |-- destination_ward_tikicode: string (nullable = true)\n",
      " |    |-- destination_ward_tikicode_id: string (nullable = true)\n",
      " |    |-- dow_created_time: long (nullable = true)\n",
      " |    |-- dropship_previous_c2p_observation_seller_dow: string (nullable = true)\n",
      " |    |-- dropship_previous_c2p_seller_dow: string (nullable = true)\n",
      " |    |-- dropship_seller_weekend_key: string (nullable = true)\n",
      " |    |-- dropship_seller_weekend_point: string (nullable = true)\n",
      " |    |-- dropship_seller_weekend_working_days: string (nullable = true)\n",
      " |    |-- estimated_transit_time: long (nullable = true)\n",
      " |    |-- extra: struct (nullable = true)\n",
      " |    |    |-- revision_id: string (nullable = true)\n",
      " |    |-- fulfillment_type: string (nullable = true)\n",
      " |    |-- hour_created_time: long (nullable = true)\n",
      " |    |-- items: array (nullable = true)\n",
      " |    |    |-- element: struct (containsNull = true)\n",
      " |    |    |    |-- inventory_type: string (nullable = true)\n",
      " |    |    |    |-- is_stock_available: boolean (nullable = true)\n",
      " |    |    |    |-- po_type: string (nullable = true)\n",
      " |    |    |    |-- product_type: string (nullable = true)\n",
      " |    |    |    |-- seller_id: long (nullable = true)\n",
      " |    |    |    |-- sku: string (nullable = true)\n",
      " |    |-- leadtime_ors_pdd: double (nullable = true)\n",
      " |    |-- max_allowed_pdd_days: string (nullable = true)\n",
      " |    |-- min_allowed_pdd_days: string (nullable = true)\n",
      " |    |-- min_in_day_created_time: long (nullable = true)\n",
      " |    |-- month_created_time: long (nullable = true)\n",
      " |    |-- no_delivery_date: string (nullable = true)\n",
      " |    |-- no_delivery_working_date: string (nullable = true)\n",
      " |    |-- no_outbound_date: string (nullable = true)\n",
      " |    |-- ors_pdd: string (nullable = true)\n",
      " |    |-- planned_delivery_partner_id: long (nullable = true)\n",
      " |    |-- planned_pickup_partner_id: long (nullable = true)\n",
      " |    |-- previous_c2d: string (nullable = true)\n",
      " |    |-- previous_c2d_avg_5c: string (nullable = true)\n",
      " |    |-- previous_c2d_observation_5c: string (nullable = true)\n",
      " |    |-- previous_c2d_tp50_5c: string (nullable = true)\n",
      " |    |-- previous_c2d_tp90_5c: string (nullable = true)\n",
      " |    |-- previous_c2d_tp95_5c: string (nullable = true)\n",
      " |    |-- province_to_province_distance: string (nullable = true)\n",
      " |    |-- request_id: string (nullable = true)\n",
      " |    |-- request_type: string (nullable = true)\n",
      " |    |-- route: string (nullable = true)\n",
      " |    |-- seller_id: long (nullable = true)\n",
      " |    |-- shipping_plan_id: long (nullable = true)\n",
      " |    |-- transportation_leadtime: double (nullable = true)\n",
      " |    |-- ward_to_ward_distance: double (nullable = true)\n",
      " |    |-- warehouse_code: string (nullable = true)\n",
      " |-- fluentd_tag: string (nullable = true)\n",
      " |-- k8s_container_image: string (nullable = true)\n",
      " |-- k8s_container_name: string (nullable = true)\n",
      " |-- k8s_pod_name: string (nullable = true)\n",
      " |-- model_code: string (nullable = true)\n",
      " |-- model_version: string (nullable = true)\n",
      " |-- name: string (nullable = true)\n",
      " |-- prediction: struct (nullable = true)\n",
      " |    |-- adjustment_log: array (nullable = true)\n",
      " |    |    |-- element: struct (containsNull = true)\n",
      " |    |    |    |-- function_name: string (nullable = true)\n",
      " |    |    |    |-- message: string (nullable = true)\n",
      " |    |    |    |-- pdd: double (nullable = true)\n",
      " |    |-- leadtime_pdd: double (nullable = true)\n",
      " |    |-- pdd: string (nullable = true)\n",
      " |    |-- predicted_leadtime_pdd: double (nullable = true)\n",
      " |-- request_id: string (nullable = true)\n",
      " |-- status_code: long (nullable = true)\n",
      " |-- timestamp: string (nullable = true)\n",
      "\n"
     ]
    }
   ],
   "source": [
    "# Print schema\n",
    "logDF.printSchema()"
   ]
  },
  {
   "cell_type": "code",
   "execution_count": 28,
   "id": "a677022f",
   "metadata": {},
   "outputs": [
    {
     "name": "stdout",
     "output_type": "stream",
     "text": [
      "+--------------------+-------------------+--------------------+--------------------+--------------------+--------------------+--------------------+-----------+-------------+-------------+--------------------+--------------------+-----------+--------------------+\n",
      "|           cart_data|       created_time|             factors|         fluentd_tag| k8s_container_image|  k8s_container_name|        k8s_pod_name| model_code|model_version|         name|          prediction|          request_id|status_code|           timestamp|\n",
      "+--------------------+-------------------+--------------------+--------------------+--------------------+--------------------+--------------------+-----------+-------------+-------------+--------------------+--------------------+-----------+--------------------+\n",
      "|{2022-07-05 06:59...|2022-07-05 06:59:59|{4.92793402777777...|smart_pdd.prediction|asia.gcr.io/tikiv...|smart-pdd-prediction|smart-pdd-predict...|light_saber| 1.5.dropship|         null|{[{start_func, , ...|-1-dropship-320708-1|        200|2022-07-05T00:00:...|\n",
      "|{2022-07-05 07:00...|2022-07-05 07:00:00|{3.99753472222222...|smart_pdd.prediction|asia.gcr.io/tikiv...|smart-pdd-prediction|smart-pdd-predict...|light_saber| 1.5.dropship|         null|{[{start_func, , ...|-1-dropship-326139-1|        200|2022-07-05T00:00:...|\n",
      "|{2022-07-05 07:00...|2022-07-05 07:00:00|{4.92793402777777...|smart_pdd.prediction|asia.gcr.io/tikiv...|smart-pdd-prediction|smart-pdd-predict...|light_saber| 1.5.dropship|         null|{[{start_func, , ...|-1-dropship-321361-1|        200|2022-07-05T00:00:...|\n",
      "|{2022-07-05 07:00...|2022-07-05 07:00:00|{1.02271990740740...|smart_pdd.prediction|asia.gcr.io/tikiv...|smart-pdd-prediction|smart-pdd-predict...|light_saber|  1.4.instock|         null|{[{start_func, , ...|49ee83de-fbf5-11e...|        200|2022-07-05T00:00:...|\n",
      "|{2022-07-05 07:00...|2022-07-05 07:00:00|{1.02271990740740...|smart_pdd.prediction|asia.gcr.io/tikiv...|smart-pdd-prediction|smart-pdd-predict...|light_saber|  1.4.instock|         null|{[{start_func, , ...|-1-tiki_delivery-...|        200|2022-07-05T00:00:...|\n",
      "|{2022-07-05 07:00...|2022-07-05 07:00:00|{1.02271990740740...|smart_pdd.prediction|asia.gcr.io/tikiv...|smart-pdd-prediction|smart-pdd-predict...|light_saber|  1.4.instock|         null|{[{start_func, , ...|-1-tiki_delivery-...|        200|2022-07-05T00:00:...|\n",
      "|{2022-07-05 07:00...|2022-07-05 07:00:00|{1.02271990740740...|smart_pdd.prediction|asia.gcr.io/tikiv...|smart-pdd-prediction|smart-pdd-predict...|light_saber|  1.4.instock|         null|{[{start_func, , ...|-1-tiki_delivery-...|        200|2022-07-05T00:00:...|\n",
      "|{2022-07-05 07:00...|2022-07-05 07:00:00|{3.99753472222222...|smart_pdd.prediction|asia.gcr.io/tikiv...|smart-pdd-prediction|smart-pdd-predict...|light_saber| 1.5.dropship|         null|{[{start_func, , ...|-1-dropship-126930-1|        200|2022-07-05T00:00:...|\n",
      "|                null|               null|                null|smart_pdd.prediction|asia.gcr.io/tikiv...|smart-pdd-prediction|smart-pdd-predict...|       null|         null|dummy message|                null|                null|        200|2022-07-05T00:00:...|\n",
      "|{2022-07-05 07:00...|2022-07-05 07:00:00|{6.08833333333333...|smart_pdd.prediction|asia.gcr.io/tikiv...|smart-pdd-prediction|smart-pdd-predict...|light_saber| 1.5.dropship|         null|{[{start_func, , ...|-1-dropship-108200-1|        200|2022-07-05T00:00:...|\n",
      "|{2022-07-05 07:00...|2022-07-05 07:00:00|{6.08833333333333...|smart_pdd.prediction|asia.gcr.io/tikiv...|smart-pdd-prediction|smart-pdd-predict...|light_saber| 1.5.dropship|         null|{[{start_func, , ...| -1-dropship-50723-2|        200|2022-07-05T00:00:...|\n",
      "|{2022-07-05 07:00...|2022-07-05 07:00:00|{4.31549768518518...|smart_pdd.prediction|asia.gcr.io/tikiv...|smart-pdd-prediction|smart-pdd-predict...|light_saber| 1.5.dropship|         null|{[{start_func, , ...|-1-dropship-198230-3|        200|2022-07-05T00:00:...|\n",
      "|{2022-07-05 07:00...|2022-07-05 07:00:00|{4.31549768518518...|smart_pdd.prediction|asia.gcr.io/tikiv...|smart-pdd-prediction|smart-pdd-predict...|light_saber| 1.5.dropship|         null|{[{start_func, , ...|-1-dropship-197265-4|        200|2022-07-05T00:00:...|\n",
      "|{2022-07-05 07:00...|2022-07-05 07:00:00|{6.08833333333333...|smart_pdd.prediction|asia.gcr.io/tikiv...|smart-pdd-prediction|smart-pdd-predict...|light_saber| 1.5.dropship|         null|{[{start_func, , ...|-1-dropship-295277-5|        200|2022-07-05T00:00:...|\n",
      "|{2022-07-05 07:00...|2022-07-05 07:00:00|{6.08833333333333...|smart_pdd.prediction|asia.gcr.io/tikiv...|smart-pdd-prediction|smart-pdd-predict...|light_saber| 1.5.dropship|         null|{[{start_func, , ...|-1-dropship-275604-6|        200|2022-07-05T00:00:...|\n",
      "|{2022-07-05 07:00...|2022-07-05 07:00:00|{6.08833333333333...|smart_pdd.prediction|asia.gcr.io/tikiv...|smart-pdd-prediction|smart-pdd-predict...|light_saber| 1.5.dropship|         null|{[{start_func, , ...|-1-dropship-282867-7|        200|2022-07-05T00:00:...|\n",
      "|{2022-07-05 07:00...|2022-07-05 07:00:00|{6.08833333333333...|smart_pdd.prediction|asia.gcr.io/tikiv...|smart-pdd-prediction|smart-pdd-predict...|light_saber| 1.5.dropship|         null|{[{start_func, , ...|-1-dropship-308336-8|        200|2022-07-05T00:00:...|\n",
      "|{2022-07-05 07:00...|2022-07-05 07:00:01|{1.86564814814814...|smart_pdd.prediction|asia.gcr.io/tikiv...|smart-pdd-prediction|smart-pdd-predict...|light_saber| 1.5.dropship|         null|{[{start_func, , ...|-1-dropship-340643-1|        200|2022-07-05T00:00:...|\n",
      "|{2022-07-05 07:00...|2022-07-05 07:00:01|{2.01708333333333...|smart_pdd.prediction|asia.gcr.io/tikiv...|smart-pdd-prediction|smart-pdd-predict...|light_saber| 1.5.dropship|         null|{[{start_func, , ...|-1-dropship-279059-1|        200|2022-07-05T00:00:...|\n",
      "|{2022-07-05 07:00...|2022-07-05 07:00:01|{4.61601851851851...|smart_pdd.prediction|asia.gcr.io/tikiv...|smart-pdd-prediction|smart-pdd-predict...|light_saber| 1.5.dropship|         null|{[{start_func, , ...|-1-dropship-314577-1|        200|2022-07-05T00:00:...|\n",
      "+--------------------+-------------------+--------------------+--------------------+--------------------+--------------------+--------------------+-----------+-------------+-------------+--------------------+--------------------+-----------+--------------------+\n",
      "only showing top 20 rows\n",
      "\n"
     ]
    }
   ],
   "source": [
    "# Call an action\n",
    "logDF.show()"
   ]
  },
  {
   "cell_type": "code",
   "execution_count": 34,
   "id": "de3f9aa5",
   "metadata": {},
   "outputs": [
    {
     "name": "stdout",
     "output_type": "stream",
     "text": [
      "+-------------+\n",
      "|model_version|\n",
      "+-------------+\n",
      "|          1.4|\n",
      "| 1.5.dropship|\n",
      "|  1.4.instock|\n",
      "+-------------+\n",
      "\n"
     ]
    }
   ],
   "source": [
    "# Transformation\n",
    "\n",
    "df = logDF\\\n",
    "        .select(\"request_id\", \"model_code\", \"model_version\", \"created_time\")\\\n",
    "        .where(\"model_code = 'light_saber'\")\\\n",
    "        .select(\"model_version\")\\\n",
    "        .distinct()\n",
    "df.show()"
   ]
  },
  {
   "cell_type": "code",
   "execution_count": 37,
   "id": "8ce4e5aa",
   "metadata": {},
   "outputs": [],
   "source": [
    "# Write to JSON\n",
    "df.write.json(os.path.join(DATA_PATH,\"model_version.json\"))"
   ]
  }
 ],
 "metadata": {
  "kernelspec": {
   "display_name": "Python 3 (ipykernel)",
   "language": "python",
   "name": "python3"
  },
  "language_info": {
   "codemirror_mode": {
    "name": "ipython",
    "version": 3
   },
   "file_extension": ".py",
   "mimetype": "text/x-python",
   "name": "python",
   "nbconvert_exporter": "python",
   "pygments_lexer": "ipython3",
   "version": "3.10.5"
  }
 },
 "nbformat": 4,
 "nbformat_minor": 5
}
