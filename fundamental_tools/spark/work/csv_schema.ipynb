{
 "cells": [
  {
   "cell_type": "code",
   "execution_count": 1,
   "id": "a8a402ea",
   "metadata": {},
   "outputs": [],
   "source": [
    "import pyspark\n",
    "from pyspark import SparkContext\n",
    "\n",
    "\n",
    "# Initalize a Spark Context\n",
    "sc = SparkContext()\n",
    "\n",
    "# Create a Spark SQL session\n",
    "spark = pyspark.sql.SparkSession(sparkContext=sc, jsparkSession=None)"
   ]
  },
  {
   "cell_type": "code",
   "execution_count": 2,
   "id": "fe2dca1b",
   "metadata": {},
   "outputs": [],
   "source": [
    "import os\n",
    "\n",
    "ROOT_PATH = os.path.join(os.getcwd(), \"..\")\n",
    "\n",
    "DATA_PATH = os.path.join(ROOT_PATH, \"data\")\n",
    "OUTPUT_PATH = os.path.join(ROOT_PATH, \"output\")"
   ]
  },
  {
   "cell_type": "markdown",
   "id": "df971733",
   "metadata": {},
   "source": [
    "## Read CSV by Spark without Schema"
   ]
  },
  {
   "cell_type": "code",
   "execution_count": 6,
   "id": "850bdc96",
   "metadata": {},
   "outputs": [
    {
     "name": "stdout",
     "output_type": "stream",
     "text": [
      "root\n",
      " |-- _c0: string (nullable = true)\n",
      " |-- _c1: string (nullable = true)\n",
      " |-- _c2: string (nullable = true)\n",
      "\n",
      "+-------+--------------------+----+\n",
      "|    _c0|                 _c1| _c2|\n",
      "+-------+--------------------+----+\n",
      "|Chapter|                Name|Page|\n",
      "|      1|        Introduction|  11|\n",
      "|      2|Basic Engineering...|  19|\n",
      "|      3|Advanced Engineer...|  28|\n",
      "|      4|     Hands On Course|  60|\n",
      "|      5|        Case Studies|  62|\n",
      "|      6|Best Practices Cl...|  73|\n",
      "|      7|130+ Data Sources...|  77|\n",
      "|      8|1001 Interview Qu...|  82|\n",
      "|      9|Recommended Books...|  87|\n",
      "+-------+--------------------+----+\n",
      "\n"
     ]
    }
   ],
   "source": [
    "# Read file bookcontents.csv by Sparksession above WITHOUT SCHEMA\n",
    "bookDF = spark.read.csv(os.path.join(DATA_PATH, \"bookcontents.csv\"))\n",
    "\n",
    "# Call action to print Schema of dataframe above\n",
    "bookDF.printSchema()\n",
    "\n",
    "\n",
    "# Call action show head 20 rows in book content dataframe\n",
    "bookDF.show()"
   ]
  },
  {
   "cell_type": "markdown",
   "id": "2f05e7d1",
   "metadata": {},
   "source": [
    "## Read CSV by Spark with Schema"
   ]
  },
  {
   "cell_type": "code",
   "execution_count": 11,
   "id": "e9451d54",
   "metadata": {},
   "outputs": [
    {
     "name": "stdout",
     "output_type": "stream",
     "text": [
      "root\n",
      " |-- _c0: string (nullable = true)\n",
      " |-- _c1: string (nullable = true)\n",
      " |-- _c2: string (nullable = true)\n",
      "\n",
      "+---+--------------------+---+\n",
      "|_c0|                 _c1|_c2|\n",
      "+---+--------------------+---+\n",
      "|  1|        Introduction| 11|\n",
      "|  2|Basic Engineering...| 19|\n",
      "|  3|Advanced Engineer...| 28|\n",
      "|  4|     Hands On Course| 60|\n",
      "|  5|        Case Studies| 62|\n",
      "|  6|Best Practices Cl...| 73|\n",
      "|  7|130+ Data Sources...| 77|\n",
      "|  8|1001 Interview Qu...| 82|\n",
      "|  9|Recommended Books...| 87|\n",
      "+---+--------------------+---+\n",
      "\n"
     ]
    }
   ],
   "source": [
    "# Read bookcontents csv file by SparkSesson with inference schema to parse datatype\n",
    "bookDF = spark.read.option(\"inferSchema\", \"true\").csv(os.path.join(DATA_PATH, \"bookcontentsNoHeader.csv\"))\n",
    "\n",
    "# Call action to show schema of above dataframe\n",
    "bookDF.printSchema()\n",
    "\n",
    "# Call action to show several rows in the dataframe\n",
    "bookDF.show()"
   ]
  },
  {
   "cell_type": "markdown",
   "id": "dfdc9181",
   "metadata": {},
   "source": [
    "## Read CSV with first row is header"
   ]
  },
  {
   "cell_type": "code",
   "execution_count": 20,
   "id": "5bf04ecf",
   "metadata": {},
   "outputs": [
    {
     "name": "stdout",
     "output_type": "stream",
     "text": [
      "root\n",
      " |-- Chapter: string (nullable = true)\n",
      " |-- Name: string (nullable = true)\n",
      " |-- Page: integer (nullable = true)\n",
      "\n",
      "+-------+--------------------+----+\n",
      "|Chapter|                Name|Page|\n",
      "+-------+--------------------+----+\n",
      "|      1|        Introduction|  11|\n",
      "|      2|Basic Engineering...|  19|\n",
      "|      3|Advanced Engineer...|  28|\n",
      "|      4|     Hands On Course|  60|\n",
      "|      5|        Case Studies|  62|\n",
      "|      6|Best Practices Cl...|  73|\n",
      "|      7|130+ Data Sources...|  77|\n",
      "|      8|1001 Interview Qu...|  82|\n",
      "|      9|Recommended Books...|  87|\n",
      "+-------+--------------------+----+\n",
      "\n"
     ]
    }
   ],
   "source": [
    "from pyspark.sql.types import StructType, StructField, StringType, IntegerType\n",
    "\n",
    "# Create a Spark Schema before opening and parsing the dataframe\n",
    "schema = StructType([\n",
    "    StructField(\"Chapter\", StringType(), False),\n",
    "    StructField(\"Name\", StringType(), False),\n",
    "    StructField(\"Page\", IntegerType(), True)\n",
    "])\n",
    "\n",
    "\n",
    "# Read csv file with header and parse field with schema\n",
    "bookDF = spark.read\\\n",
    "            .option(\"header\", \"true\")\\\n",
    "            .schema(schema)\\\n",
    "            .csv(os.path.join(DATA_PATH, \"bookcontents.csv\"))\n",
    "\n",
    "# Call action to print out the schema\n",
    "bookDF.printSchema()\n",
    "\n",
    "\n",
    "# Call action to show data in dataframe\n",
    "bookDF.show()"
   ]
  },
  {
   "cell_type": "markdown",
   "id": "250b844b",
   "metadata": {},
   "source": [
    "## Write Dataframe to Parquet"
   ]
  },
  {
   "cell_type": "code",
   "execution_count": 21,
   "id": "4eba8fa2",
   "metadata": {},
   "outputs": [],
   "source": [
    "# Write the dataframe above to parquet file with overwite mode\n",
    "bookDF.write\\\n",
    "    .partitionBy(\"Page\", \"Name\")\\\n",
    "    .mode(\"overwrite\")\\\n",
    "    .parquet(os.path.join(OUTPUT_PATH, \"book.parquet\"))"
   ]
  },
  {
   "cell_type": "markdown",
   "id": "bc9620a8",
   "metadata": {},
   "source": [
    "## Read partition from Parquet"
   ]
  },
  {
   "cell_type": "code",
   "execution_count": 25,
   "id": "debe125b",
   "metadata": {},
   "outputs": [],
   "source": [
    "spark.sql(\"\"\"\n",
    "    CREATE OR REPLACE TEMPORARY VIEW book_page_11_view\n",
    "    USING PARQUET\n",
    "    OPTIONS (path \\\"{parquet_path}\\\")\n",
    "\"\"\".format(\n",
    "    parquet_path=os.path.join(OUTPUT_PATH, \"book.parquet\", \"Page=11\")\n",
    ")\n",
    "         )\n",
    "\n",
    "book_page_11_df = spark.sql(\"\"\"SELECT * FROM book_page_11_view\"\"\")"
   ]
  },
  {
   "cell_type": "code",
   "execution_count": 26,
   "id": "bbf9cea8",
   "metadata": {},
   "outputs": [
    {
     "name": "stdout",
     "output_type": "stream",
     "text": [
      "+-------+------------+\n",
      "|Chapter|        Name|\n",
      "+-------+------------+\n",
      "|      1|Introduction|\n",
      "+-------+------------+\n",
      "\n"
     ]
    }
   ],
   "source": [
    "book_page_11_df.show()"
   ]
  }
 ],
 "metadata": {
  "kernelspec": {
   "display_name": "Python 3 (ipykernel)",
   "language": "python",
   "name": "python3"
  },
  "language_info": {
   "codemirror_mode": {
    "name": "ipython",
    "version": 3
   },
   "file_extension": ".py",
   "mimetype": "text/x-python",
   "name": "python",
   "nbconvert_exporter": "python",
   "pygments_lexer": "ipython3",
   "version": "3.10.5"
  }
 },
 "nbformat": 4,
 "nbformat_minor": 5
}
