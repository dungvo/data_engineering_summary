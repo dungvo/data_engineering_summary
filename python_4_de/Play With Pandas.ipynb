{
 "cells": [
  {
   "cell_type": "code",
   "execution_count": 8,
   "id": "9e5ed764",
   "metadata": {},
   "outputs": [
    {
     "name": "stdout",
     "output_type": "stream",
     "text": [
      "26\n"
     ]
    }
   ],
   "source": [
    "from datetime import datetime as dt, date\n",
    "from dateutil.relativedelta import relativedelta\n",
    "\n",
    "\n",
    "class Person:\n",
    "    \n",
    "    def __init__(self, name: str, dob: str) -> None:\n",
    "        \n",
    "        self.name = name\n",
    "        self._dob = dt.strptime(dob, \"%Y-%m-%d\")\n",
    "        \n",
    "        \n",
    "    def show_my_age(self) -> int:\n",
    "        \n",
    "        print(relativedelta(\n",
    "            date.today(), self._dob\n",
    "        ).years)\n",
    "        \n",
    "p = Person('Duc', '1996-04-02')\n",
    "\n",
    "p.show_my_age()"
   ]
  },
  {
   "cell_type": "markdown",
   "id": "805eac41",
   "metadata": {},
   "source": [
    "## Datetime\n",
    "- Get current date\n",
    "- Modify current date\n",
    "- Format date strings\n",
    "- Get epoch and format epoch from date strings"
   ]
  },
  {
   "cell_type": "code",
   "execution_count": 62,
   "id": "19fd6171",
   "metadata": {},
   "outputs": [
    {
     "name": "stdout",
     "output_type": "stream",
     "text": [
      "current_local: 2022-07-06 11:22:45.035991+07:00\n",
      "\n",
      "datetime_now_minus_one_hour: 2022-07-06 10:22:45.035991+07:00\n",
      "\n",
      "current_local_reformat: 2022-07-06 11:22:45\n",
      "\n",
      "epoch: 1657081365.035991\n",
      "\n",
      "datetime_from_epoch: 2022-07-06 11:22:45\n",
      "\n"
     ]
    }
   ],
   "source": [
    "import time\n",
    "import pytz\n",
    "from datetime import datetime, timedelta\n",
    "\n",
    "\n",
    "# Timezone\n",
    "TIMEZONE = pytz.timezone('Asia/Ho_Chi_Minh')\n",
    "\n",
    "# Get now UTC\n",
    "current_utc = datetime.utcnow()\n",
    "\n",
    "\n",
    "# Get now in Ho Chi Minh\n",
    "current_local = datetime.now(TIMEZONE)\n",
    "print(f\"current_local: {current_local}\\n\")\n",
    "\n",
    "# Modify now by minus one hour\n",
    "datetime_now_minus_one_hour = current_local - timedelta(hours=1)\n",
    "print(f\"datetime_now_minus_one_hour: {datetime_now_minus_one_hour}\\n\")\n",
    "\n",
    "# Delete decimal from datetime\n",
    "current_local_reformat = current_local.strftime(\"%Y-%m-%d %H:%M:%S\\n\")\n",
    "print(f\"current_local_reformat: {current_local_reformat}\")\n",
    "\n",
    "# Get epoch from datetime\n",
    "epoch = current_local.timestamp()\n",
    "print(f\"epoch: {epoch}\\n\")\n",
    "\n",
    "# Turn epoch to datetime\n",
    "datetime_from_epoch = time.strftime(\"%Y-%m-%d %H:%M:%S\", time.localtime(epoch))\n",
    "print(f\"datetime_from_epoch: {datetime_from_epoch}\\n\")"
   ]
  },
  {
   "cell_type": "markdown",
   "id": "0147f017",
   "metadata": {},
   "source": [
    "## JSON\n",
    "- Load JSON from a file\n",
    "- Create JSON object from a string\n",
    "- Dump JSON object to a string\n",
    "- Loop through the JSON object\n",
    "- Getting a specific data by value from JSON\n",
    "- Update a part of JSON\n",
    "- Write JSON to a file\n",
    "- JSON validation"
   ]
  },
  {
   "cell_type": "code",
   "execution_count": 100,
   "id": "f504053c",
   "metadata": {},
   "outputs": [
    {
     "name": "stdout",
     "output_type": "stream",
     "text": [
      "[{'InvoiceNo': 536370, 'StockCode': 22492, 'Description': 'MINI PAINT SET VINTAGE', 'Quantity': 36, 'InvoiceDate': '12/1/2010 8:45', 'UnitPrice': 0.65, 'CustomerID': 12583, 'Country': 'France'}, {'InvoiceNo': 536372, 'StockCode': 22632, 'Description': 'HAND WARMER RED POLKA DOT', 'Quantity': 6, 'InvoiceDate': '12/1/2010 9:01', 'UnitPrice': 1.85, 'CustomerID': 17850, 'Country': 'United Kingdom'}]\n"
     ]
    }
   ],
   "source": [
    "import os\n",
    "import json\n",
    "from os import path as PATH\n",
    "\n",
    "# Third-party modules\n",
    "from pydantic import BaseModel, validator\n",
    "\n",
    "from typing import Optional\n",
    "CWD = os.getcwd()\n",
    "\n",
    "class MyModel(BaseModel):\n",
    "    \n",
    "    InvoiceNo: str\n",
    "    StockCode: int\n",
    "    Description: str\n",
    "    Quantity: int\n",
    "    InvoiceDate: Optional[str] = None\n",
    "    UnitPrice: float\n",
    "    CustomerID: int\n",
    "    Country: str\n",
    "    \n",
    "    @validator(\"InvoiceDate\")\n",
    "    def validate_date_time(cls, v):\n",
    "        \n",
    "        try:\n",
    "            _x = datetime.strptime(v, \"%d/%m/%Y %H:%M\")\n",
    "        except:\n",
    "            print(v)\n",
    "        \n",
    "            \n",
    "            \n",
    "        return _x\n",
    "        \n",
    "with open(PATH.join(CWD, \"my_json.json\")) as f:\n",
    "    \n",
    "    data = json.loads(f.read())\n",
    "    print(data)\n",
    "    \n",
    "objs = map(lambda x: MyModel(**x), data)"
   ]
  },
  {
   "cell_type": "code",
   "execution_count": 105,
   "id": "501d8ff0",
   "metadata": {},
   "outputs": [],
   "source": [
    "from jsonschema import validate\n",
    "\n",
    "schema = {\n",
    "    \n",
    "}"
   ]
  },
  {
   "cell_type": "code",
   "execution_count": 103,
   "id": "753c63be",
   "metadata": {},
   "outputs": [
    {
     "name": "stdout",
     "output_type": "stream",
     "text": [
      "Requirement already satisfied: jsonschema in /Users/lap-00893/Documents/max/data_engineering_summary/venv/lib/python3.8/site-packages (4.6.1)\n",
      "Requirement already satisfied: attrs>=17.4.0 in /Users/lap-00893/Documents/max/data_engineering_summary/venv/lib/python3.8/site-packages (from jsonschema) (21.4.0)\n",
      "Requirement already satisfied: pyrsistent!=0.17.0,!=0.17.1,!=0.17.2,>=0.14.0 in /Users/lap-00893/Documents/max/data_engineering_summary/venv/lib/python3.8/site-packages (from jsonschema) (0.18.1)\n",
      "Requirement already satisfied: importlib-resources>=1.4.0 in /Users/lap-00893/Documents/max/data_engineering_summary/venv/lib/python3.8/site-packages (from jsonschema) (5.8.0)\n",
      "Requirement already satisfied: zipp>=3.1.0 in /Users/lap-00893/Documents/max/data_engineering_summary/venv/lib/python3.8/site-packages (from importlib-resources>=1.4.0->jsonschema) (3.8.0)\n",
      "\u001b[33mWARNING: You are using pip version 21.1.1; however, version 22.1.2 is available.\n",
      "You should consider upgrading via the '/Users/lap-00893/Documents/max/data_engineering_summary/venv/bin/python3 -m pip install --upgrade pip' command.\u001b[0m\n"
     ]
    }
   ],
   "source": [
    "!pip install jsonschema"
   ]
  }
 ],
 "metadata": {
  "kernelspec": {
   "display_name": "Python 3 (ipykernel)",
   "language": "python",
   "name": "python3"
  },
  "language_info": {
   "codemirror_mode": {
    "name": "ipython",
    "version": 3
   },
   "file_extension": ".py",
   "mimetype": "text/x-python",
   "name": "python",
   "nbconvert_exporter": "python",
   "pygments_lexer": "ipython3",
   "version": "3.8.10"
  }
 },
 "nbformat": 4,
 "nbformat_minor": 5
}
